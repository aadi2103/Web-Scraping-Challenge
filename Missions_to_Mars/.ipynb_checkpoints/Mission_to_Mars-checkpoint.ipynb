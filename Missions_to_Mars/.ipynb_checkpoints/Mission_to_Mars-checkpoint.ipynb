{
 "cells": [
  {
   "cell_type": "code",
   "execution_count": 1,
   "metadata": {},
   "outputs": [],
   "source": [
    "#import dependencies \n",
    "from splinter import Browser\n",
    "from bs4 import BeautifulSoup\n",
    "import pandas as pd\n",
    "import time"
   ]
  },
  {
   "cell_type": "code",
   "execution_count": 2,
   "metadata": {},
   "outputs": [],
   "source": [
    "# Scraping Nasa Mars News\n",
    "#executable path\n",
    "executable_path = {'executable_path': 'chromedriver'}\n",
    "browser = Browser('chrome', **executable_path, headless=False)"
   ]
  },
  {
   "cell_type": "code",
   "execution_count": null,
   "metadata": {},
   "outputs": [],
   "source": [
    "#visit Mars NASA url for latest news\n",
    "url = 'https://mars.nasa.gov/news/'\n",
    "browser.visit(url)\n",
    "time.sleep(5)"
   ]
  },
  {
   "cell_type": "code",
   "execution_count": null,
   "metadata": {},
   "outputs": [],
   "source": [
    "# HTML object\n",
    "html = browser.html\n",
    "\n",
    "# Parse HTML with Beautiful Soup\n",
    "soup = BeautifulSoup(html, 'html.parser')"
   ]
  },
  {
   "cell_type": "code",
   "execution_count": null,
   "metadata": {},
   "outputs": [],
   "source": [
    "#get and print the latest news title and teaser paragraph\n",
    "news_title =soup.find('div', class_='list_text').find('div', class_='content_title').text\n",
    "print(news_title)\n",
    "\n",
    "news_p = soup.find('div', class_='list_text').find('div', class_='article_teaser_body').text\n",
    "print(news_p)"
   ]
  },
  {
   "cell_type": "code",
   "execution_count": null,
   "metadata": {},
   "outputs": [],
   "source": [
    "browser.quit()"
   ]
  },
  {
   "cell_type": "code",
   "execution_count": null,
   "metadata": {},
   "outputs": [],
   "source": [
    "# Scraping JPL Mars Space Images - Featured Image"
   ]
  },
  {
   "cell_type": "code",
   "execution_count": null,
   "metadata": {},
   "outputs": [],
   "source": [
    "#executable path\n",
    "executable_path = {'executable_path': 'chromedriver'}\n",
    "browser = Browser('chrome', **executable_path, headless=False)"
   ]
  },
  {
   "cell_type": "code",
   "execution_count": null,
   "metadata": {},
   "outputs": [],
   "source": [
    "#visit JPL mars Space Images site \n",
    "image_url = 'https://www.jpl.nasa.gov/spaceimages/?search=&category=Mars'\n",
    "browser.visit(image_url)\n",
    "time.sleep(5)"
   ]
  },
  {
   "cell_type": "code",
   "execution_count": null,
   "metadata": {},
   "outputs": [],
   "source": [
    "#using splinter click on Full Image button\n",
    "browser.links.find_by_partial_text('FULL IMAGE').click()"
   ]
  },
  {
   "cell_type": "code",
   "execution_count": null,
   "metadata": {},
   "outputs": [],
   "source": [
    "#using splinter click on more info\n",
    "browser.links.find_by_partial_text('more info').click()\n",
    "time.sleep(5)"
   ]
  },
  {
   "cell_type": "code",
   "execution_count": null,
   "metadata": {},
   "outputs": [],
   "source": [
    "#get html of current page and get the featured image URL\n",
    "html = browser.html\n",
    "image_soup = BeautifulSoup(html, \"html.parser\")"
   ]
  },
  {
   "cell_type": "code",
   "execution_count": null,
   "metadata": {},
   "outputs": [],
   "source": [
    "#find Image url\n",
    "image_url = image_soup.find(\"figure\",class_=\"lede\").a[\"href\"]\n",
    "\n",
    "base_url = \"https://www.jpl.nasa.gov\"\n",
    "\n",
    "#concatenate base url and image url to form the featured image url\n",
    "featured_image_url = base_url+image_url\n",
    "print(featured_image_url)"
   ]
  },
  {
   "cell_type": "code",
   "execution_count": null,
   "metadata": {},
   "outputs": [],
   "source": [
    "browser.quit()"
   ]
  },
  {
   "cell_type": "code",
   "execution_count": null,
   "metadata": {},
   "outputs": [],
   "source": [
    "#executable path\n",
    "executable_path = {'executable_path': 'chromedriver'}\n",
    "browser = Browser('chrome', **executable_path, headless=False)"
   ]
  },
  {
   "cell_type": "code",
   "execution_count": null,
   "metadata": {},
   "outputs": [],
   "source": [
    "#visit Mars Weather in twitter\n",
    "twitter_url = 'https://twitter.com/marswxreport?lang=en'\n",
    "browser.visit(twitter_url)\n",
    "time.sleep(5)"
   ]
  },
  {
   "cell_type": "code",
   "execution_count": null,
   "metadata": {},
   "outputs": [],
   "source": [
    "#HTML Object and creating soup with HTML parser\n",
    "html = browser.html\n",
    "weather_soup = BeautifulSoup(html, \"html.parser\")"
   ]
  },
  {
   "cell_type": "code",
   "execution_count": null,
   "metadata": {},
   "outputs": [],
   "source": [
    "# Find all span tags and save it in spans list\n",
    "spans = weather_soup.find_all('span')\n",
    "\n",
    "#for every span in the spans list look for the text sol, low and high that indicates it is a tweet about weather\n",
    "for span in spans:\n",
    "    if 'sol' and 'low' and 'high' in span.text.lower():\n",
    "        mars_weather = span.text\n",
    "        print(mars_weather)\n",
    "        #break the loop if the first weather tweet is found, since we need only the latest tweet\n",
    "        break\n",
    "    else: \n",
    "        pass"
   ]
  },
  {
   "cell_type": "code",
   "execution_count": null,
   "metadata": {},
   "outputs": [],
   "source": [
    "browser.quit()"
   ]
  },
  {
   "cell_type": "code",
   "execution_count": null,
   "metadata": {},
   "outputs": [],
   "source": [
    "# Scraping Mars Facts\n",
    "# Mars facts site \n",
    "facts_url = 'http://space-facts.com/mars/'"
   ]
  },
  {
   "cell_type": "code",
   "execution_count": null,
   "metadata": {},
   "outputs": [],
   "source": [
    "#reading HTML using Panadas\n",
    "mars_facts_tables = pd.read_html(facts_url)\n",
    "\n",
    "# get the first table\n",
    "mars_facts_df = mars_facts_tables[0]\n",
    "\n",
    "mars_facts_df.columns = ['Description','Value']\n",
    "\n",
    "# Set Description as index\n",
    "mars_facts_df.set_index('Description', inplace=True)\n",
    "\n",
    "mars_facts_df"
   ]
  },
  {
   "cell_type": "code",
   "execution_count": null,
   "metadata": {},
   "outputs": [],
   "source": [
    "# store table as html string \n",
    "mars_facts_html=mars_facts_df.to_html()\n",
    "\n",
    "mars_facts_html"
   ]
  },
  {
   "cell_type": "code",
   "execution_count": null,
   "metadata": {},
   "outputs": [],
   "source": [
    "#export as HTML file \n",
    "mars_facts_df.to_html('mars_facts.html')"
   ]
  },
  {
   "cell_type": "code",
   "execution_count": null,
   "metadata": {},
   "outputs": [],
   "source": [
    "# Scraping Mars Hemispheres"
   ]
  },
  {
   "cell_type": "code",
   "execution_count": null,
   "metadata": {},
   "outputs": [],
   "source": [
    "#executable path\n",
    "executable_path = {'executable_path': 'chromedriver'}\n",
    "browser = Browser('chrome', **executable_path, headless=False)"
   ]
  },
  {
   "cell_type": "code",
   "execution_count": null,
   "metadata": {},
   "outputs": [],
   "source": [
    "# Visit astrogeology site \n",
    "astrogeology_url = 'https://astrogeology.usgs.gov/search/results?q=hemisphere+enhanced&k1=target&v1=Mars'\n",
    "browser.visit(astrogeology_url)\n",
    "time.sleep(5)"
   ]
  },
  {
   "cell_type": "code",
   "execution_count": null,
   "metadata": {},
   "outputs": [],
   "source": [
    "#HTML Object and creating soup with HTML parser\n",
    "html = browser.html\n",
    "soup = BeautifulSoup(html, \"html.parser\")"
   ]
  },
  {
   "cell_type": "code",
   "execution_count": null,
   "metadata": {},
   "outputs": [],
   "source": [
    "#loop thru the div tags and class = item to get all products\n",
    "products = soup.find_all(\"div\",class_=\"item\")\n",
    "\n",
    "#empty array to hold thetitle text that will be used later to click\n",
    "hemispheres=[]\n",
    "\n",
    "#loop through the products and get h3 text, i.e the names of the hemispheres\n",
    "for product in products:\n",
    "    \n",
    "    #get the h3 test and split thatbased on space , pick the first word\n",
    "    h3_partial_text = product.h3.text.split(\" \")[0]\n",
    "    \n",
    "    #append te h3 partial text to hemispheres array\n",
    "    hemispheres.append(h3_partial_text)\n",
    "\n",
    "print(hemispheres)"
   ]
  },
  {
   "cell_type": "code",
   "execution_count": null,
   "metadata": {},
   "outputs": [],
   "source": [
    "#empty list\n",
    "hemisphere_image_urls = []\n",
    "\n",
    "#loop through the hemispheres retrived above\n",
    "for hemisphere in hemispheres:\n",
    "       \n",
    "    #using splinter click on the link\n",
    "    browser.links.find_by_partial_text(hemisphere).click()\n",
    "    time.sleep(5)\n",
    "    \n",
    "    #create html object and parse\n",
    "    html = browser.html\n",
    "    hem_soup = BeautifulSoup(html, \"html.parser\")\n",
    "    \n",
    "    #get title and store it in dict\n",
    "    title = hem_soup.find(\"div\",class_=\"content\").find(\"h2\",class_=\"title\").text\n",
    "    print(\"---------------\")\n",
    "    print(title)\n",
    "    \n",
    "    \n",
    "    #get all li tags\n",
    "    lis = hem_soup.find(\"div\",class_=\"downloads\").find_all(\"li\")\n",
    "    \n",
    "    #loop through the li tags\n",
    "    for li in lis:\n",
    "        \n",
    "        #there are 2 image links, we want to get the image url for the \"sample\"\n",
    "        if \"sample\" in li.text.lower():\n",
    "            img_url = li.a[\"href\"]\n",
    "            print(img_url)\n",
    "                \n",
    "    #append to the list\n",
    "    hemisphere_image_urls.append({\"title\" : title, \"img_url\" : img_url})\n",
    "    \n",
    "    #using splinter have the browser go back, so the next hemisphere can be clicked\n",
    "    browser.back()"
   ]
  },
  {
   "cell_type": "code",
   "execution_count": null,
   "metadata": {},
   "outputs": [],
   "source": [
    "hemisphere_image_urls"
   ]
  },
  {
   "cell_type": "code",
   "execution_count": null,
   "metadata": {},
   "outputs": [],
   "source": [
    "browser.quit()"
   ]
  },
  {
   "cell_type": "code",
   "execution_count": null,
   "metadata": {},
   "outputs": [],
   "source": []
  }
 ],
 "metadata": {
  "kernelspec": {
   "display_name": "Python 3",
   "language": "python",
   "name": "python3"
  },
  "language_info": {
   "codemirror_mode": {
    "name": "ipython",
    "version": 3
   },
   "file_extension": ".py",
   "mimetype": "text/x-python",
   "name": "python",
   "nbconvert_exporter": "python",
   "pygments_lexer": "ipython3",
   "version": "3.7.4"
  }
 },
 "nbformat": 4,
 "nbformat_minor": 4
}
